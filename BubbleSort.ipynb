{
 "cells": [
  {
   "cell_type": "markdown",
   "id": "135728e8-0e33-49b0-8bf4-a56f7097808d",
   "metadata": {},
   "source": [
    "### Bubble Sort Algorithm"
   ]
  },
  {
   "cell_type": "code",
   "execution_count": 5,
   "id": "31246418-aa16-44a5-9aa5-80875b392b19",
   "metadata": {},
   "outputs": [
    {
     "name": "stdout",
     "output_type": "stream",
     "text": [
      "[0, 1, 5, 6, 8, 8, 10, 27, 122, 125, 1051]\n"
     ]
    }
   ],
   "source": [
    "k=[5,8,10,6,27,8,0,1,125,1051,122]\n",
    "\n",
    "for i in range(len(k)-1):\n",
    "    for j in range(len(k)-1):\n",
    "        if k[j]>k[j+1]:\n",
    "            tm=k[j]\n",
    "            k[j]=k[j+1]\n",
    "            k[j+1]=tm\n",
    "\n",
    "print(k)"
   ]
  },
  {
   "cell_type": "code",
   "execution_count": null,
   "id": "996af4ec-1ac8-4102-a1b5-3890b6a9b5db",
   "metadata": {},
   "outputs": [],
   "source": [
    "def bubbleSort(k):\n",
    "    for i in range(len(k)-1):\n",
    "    for j in range(len(k)-1):\n",
    "        if k[j]>k[j+1]:\n",
    "            tm=k[j]\n",
    "            k[j]=k[j+1]\n",
    "            k[j+1]=tm\n",
    "    return k"
   ]
  }
 ],
 "metadata": {
  "kernelspec": {
   "display_name": "Python 3 (ipykernel)",
   "language": "python",
   "name": "python3"
  },
  "language_info": {
   "codemirror_mode": {
    "name": "ipython",
    "version": 3
   },
   "file_extension": ".py",
   "mimetype": "text/x-python",
   "name": "python",
   "nbconvert_exporter": "python",
   "pygments_lexer": "ipython3",
   "version": "3.11.7"
  }
 },
 "nbformat": 4,
 "nbformat_minor": 5
}
