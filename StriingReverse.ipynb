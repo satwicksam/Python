{
 "cells": [
  {
   "cell_type": "markdown",
   "id": "6e9ea826-a092-4b14-958a-a5c74965ed50",
   "metadata": {},
   "source": [
    "### Srting Reverse without using LOOP"
   ]
  },
  {
   "cell_type": "code",
   "execution_count": 5,
   "id": "b15cedd0-f81e-41fd-a796-37003910a7d9",
   "metadata": {},
   "outputs": [
    {
     "name": "stdin",
     "output_type": "stream",
     "text": [
      " satw\n"
     ]
    },
    {
     "name": "stdout",
     "output_type": "stream",
     "text": [
      "wtas\n"
     ]
    }
   ],
   "source": [
    "st = input()\n",
    "print(st[::-1])"
   ]
  },
  {
   "cell_type": "markdown",
   "id": "ef68580b-da54-4b49-959f-0f21e9c9833c",
   "metadata": {},
   "source": [
    "### Srting Reverse using LOOP"
   ]
  },
  {
   "cell_type": "code",
   "execution_count": 4,
   "id": "f329f5dc-a2f7-4df6-a5bc-03d4a3c8b4d7",
   "metadata": {},
   "outputs": [
    {
     "name": "stdin",
     "output_type": "stream",
     "text": [
      " satw\n"
     ]
    },
    {
     "name": "stdout",
     "output_type": "stream",
     "text": [
      "wtas"
     ]
    }
   ],
   "source": [
    "st=input()\n",
    "ln=len(st)-1\n",
    "while(ln>=0):\n",
    "    print(st[ln],end=\"\")\n",
    "    ln -= 1"
   ]
  },
  {
   "cell_type": "code",
   "execution_count": 1,
   "id": "9c7d3bf6-ca76-4d07-a82e-4e7f2c0da311",
   "metadata": {},
   "outputs": [
    {
     "name": "stdin",
     "output_type": "stream",
     "text": [
      " jhgf\n"
     ]
    },
    {
     "name": "stdout",
     "output_type": "stream",
     "text": [
      "fghj"
     ]
    }
   ],
   "source": [
    "st=input()\n",
    "for i in range((len(st)-1),-1,-1):\n",
    "    print(st[i],end=\"\")"
   ]
  },
  {
   "cell_type": "code",
   "execution_count": 4,
   "id": "540a1f93-0010-40d4-85dc-7b17570fe806",
   "metadata": {},
   "outputs": [
    {
     "name": "stdin",
     "output_type": "stream",
     "text": [
      " Satwick Sam\n"
     ]
    },
    {
     "name": "stdout",
     "output_type": "stream",
     "text": [
      "maS kciwtaS"
     ]
    }
   ],
   "source": [
    "st=input()\n",
    "for i in range(len(st)):\n",
    "    print(st[len(st)-1-i],end=\"\")"
   ]
  },
  {
   "cell_type": "code",
   "execution_count": null,
   "id": "68d4ce44-4be0-49c4-86af-8ff74d1180f8",
   "metadata": {},
   "outputs": [],
   "source": []
  }
 ],
 "metadata": {
  "kernelspec": {
   "display_name": "Python 3 (ipykernel)",
   "language": "python",
   "name": "python3"
  },
  "language_info": {
   "codemirror_mode": {
    "name": "ipython",
    "version": 3
   },
   "file_extension": ".py",
   "mimetype": "text/x-python",
   "name": "python",
   "nbconvert_exporter": "python",
   "pygments_lexer": "ipython3",
   "version": "3.11.7"
  }
 },
 "nbformat": 4,
 "nbformat_minor": 5
}
