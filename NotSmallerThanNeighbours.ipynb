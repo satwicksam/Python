{
 "cells": [
  {
   "cell_type": "markdown",
   "id": "e2d22143-cb4c-4327-a9da-5bf2c92d4b39",
   "metadata": {},
   "source": [
    "### Write a program to find a number which is not smaller than its Neighbours."
   ]
  },
  {
   "cell_type": "code",
   "execution_count": 15,
   "id": "8dc3d984-74a6-4e0f-9d05-11e31ace52db",
   "metadata": {},
   "outputs": [
    {
     "name": "stdin",
     "output_type": "stream",
     "text": [
      " 10 25 14 18 11 65 55\n"
     ]
    }
   ],
   "source": [
    "ns = list(map(int, input().split(\" \")))"
   ]
  },
  {
   "cell_type": "code",
   "execution_count": 16,
   "id": "8f7d1bfa-621e-46ae-be95-08da75ae9f47",
   "metadata": {},
   "outputs": [
    {
     "name": "stdout",
     "output_type": "stream",
     "text": [
      "25\n",
      "18\n",
      "65\n"
     ]
    }
   ],
   "source": [
    "for i in range(1,len(ns)-1):\n",
    "    if ns[i]>ns[i-1] and ns[i]>ns[i+1]:\n",
    "        print(ns[i])"
   ]
  },
  {
   "cell_type": "code",
   "execution_count": null,
   "id": "a5282955-797f-44d6-bc63-4de9a82a4181",
   "metadata": {},
   "outputs": [],
   "source": []
  }
 ],
 "metadata": {
  "kernelspec": {
   "display_name": "Python 3 (ipykernel)",
   "language": "python",
   "name": "python3"
  },
  "language_info": {
   "codemirror_mode": {
    "name": "ipython",
    "version": 3
   },
   "file_extension": ".py",
   "mimetype": "text/x-python",
   "name": "python",
   "nbconvert_exporter": "python",
   "pygments_lexer": "ipython3",
   "version": "3.11.7"
  }
 },
 "nbformat": 4,
 "nbformat_minor": 5
}
