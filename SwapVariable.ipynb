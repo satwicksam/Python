{
 "cells": [
  {
   "cell_type": "markdown",
   "id": "6ba9d568-e06e-4e6c-99cb-19ed2731b03e",
   "metadata": {},
   "source": [
    "### Swap two variabel without third variable"
   ]
  },
  {
   "cell_type": "code",
   "execution_count": 1,
   "id": "c6390645-ac6c-4660-b1a3-42638fd1b47d",
   "metadata": {},
   "outputs": [
    {
     "name": "stdin",
     "output_type": "stream",
     "text": [
      " 5\n",
      " 10\n"
     ]
    },
    {
     "name": "stdout",
     "output_type": "stream",
     "text": [
      "Before swap A = 5, B=10 \n",
      "After swap A = 10, B=5 \n"
     ]
    }
   ],
   "source": [
    "a = int(input())\n",
    "b = int(input())\n",
    "print(f\"Before swap A = {a}, B={b} \")\n",
    "a = a+b\n",
    "b = a-b\n",
    "a = a-b\n",
    "print(f\"After swap A = {a}, B={b} \")"
   ]
  },
  {
   "cell_type": "markdown",
   "id": "602ac91b-543a-45b7-a4a4-478f3072b050",
   "metadata": {},
   "source": [
    "### Swap two variabel without third variable and without using arithmetic operator"
   ]
  },
  {
   "cell_type": "code",
   "execution_count": 3,
   "id": "e5e58506-437b-46b8-b25e-d0bc76a76dfc",
   "metadata": {},
   "outputs": [
    {
     "name": "stdin",
     "output_type": "stream",
     "text": [
      " 5\n",
      " 10\n"
     ]
    },
    {
     "name": "stdout",
     "output_type": "stream",
     "text": [
      "After swapping: A=10 and B=5\n"
     ]
    }
   ],
   "source": [
    "a = int(input())\n",
    "b = int(input())\n",
    "\n",
    "def swap(a,b):\n",
    "    print(f\"After swapping: A={b} and B={a}\")\n",
    "\n",
    "swap(a,b)"
   ]
  },
  {
   "cell_type": "code",
   "execution_count": null,
   "id": "f1df7ff8-72f4-475f-8edf-2eb54e255b52",
   "metadata": {},
   "outputs": [],
   "source": []
  }
 ],
 "metadata": {
  "kernelspec": {
   "display_name": "Python 3 (ipykernel)",
   "language": "python",
   "name": "python3"
  },
  "language_info": {
   "codemirror_mode": {
    "name": "ipython",
    "version": 3
   },
   "file_extension": ".py",
   "mimetype": "text/x-python",
   "name": "python",
   "nbconvert_exporter": "python",
   "pygments_lexer": "ipython3",
   "version": "3.11.7"
  }
 },
 "nbformat": 4,
 "nbformat_minor": 5
}
