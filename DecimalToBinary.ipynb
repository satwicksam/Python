{
 "cells": [
  {
   "cell_type": "markdown",
   "id": "7315ee8e-169b-4a0d-9e0b-734e208820b3",
   "metadata": {},
   "source": [
    "### Decimal to Binary Converter"
   ]
  },
  {
   "cell_type": "code",
   "execution_count": null,
   "id": "f6cc2ff4-750c-44bf-a997-9adfe45efaef",
   "metadata": {},
   "outputs": [],
   "source": [
    "dn = int(input(\"Enter a DECIMAL number: \"))\n",
    "dc = dn\n",
    "bn = ''\n",
    "while (dn>0):\n",
    "    bn1=(dn%2)\n",
    "    bn += str(bn1)\n",
    "    dn = int(dn/2)\n",
    "    print(bn)\n",
    "    \n",
    "print(f\"{dc} euivalent Binary number is - {bn[::-1]}\")"
   ]
  },
  {
   "cell_type": "code",
   "execution_count": null,
   "id": "e82079f0-7d69-4a0f-b30b-fdbe89c48ad4",
   "metadata": {},
   "outputs": [],
   "source": [
    "dn = int(input())\n",
    "bn=\"\"\n",
    "while dn>0:\n",
    "    bn+=str(dn%2)\n",
    "    dn=int(dn/2)\n",
    "\n",
    "print(bn[::-1])"
   ]
  },
  {
   "cell_type": "code",
   "execution_count": null,
   "id": "9eef43e5-1331-4a00-9b77-0d20563b38dc",
   "metadata": {},
   "outputs": [],
   "source": []
  }
 ],
 "metadata": {
  "kernelspec": {
   "display_name": "Python 3 (ipykernel)",
   "language": "python",
   "name": "python3"
  },
  "language_info": {
   "codemirror_mode": {
    "name": "ipython",
    "version": 3
   },
   "file_extension": ".py",
   "mimetype": "text/x-python",
   "name": "python",
   "nbconvert_exporter": "python",
   "pygments_lexer": "ipython3",
   "version": "3.11.7"
  }
 },
 "nbformat": 4,
 "nbformat_minor": 5
}
