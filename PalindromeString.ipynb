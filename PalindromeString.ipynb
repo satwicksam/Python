{
 "cells": [
  {
   "cell_type": "markdown",
   "id": "883adf67-0fe9-4c62-bccc-21fba441c714",
   "metadata": {},
   "source": [
    "### Check whether a string palindrome or not"
   ]
  },
  {
   "cell_type": "code",
   "execution_count": 27,
   "id": "d40cf3d9-42c9-4f73-bcd9-ca4cab0f11bc",
   "metadata": {},
   "outputs": [
    {
     "name": "stdin",
     "output_type": "stream",
     "text": [
      " 54668898\n"
     ]
    },
    {
     "name": "stdout",
     "output_type": "stream",
     "text": [
      "Non Palindrome\n"
     ]
    }
   ],
   "source": [
    "s = input()\n",
    "err=0\n",
    "for i in range(int(len(s)/2)):\n",
    "    if s[i]!=s[len(s)-i-1]:\n",
    "        err+=1\n",
    "\n",
    "if err==0:\n",
    "    print(\"Palindrome\")\n",
    "else:\n",
    "    print(\"Non Palindrome\")"
   ]
  }
 ],
 "metadata": {
  "kernelspec": {
   "display_name": "Python 3 (ipykernel)",
   "language": "python",
   "name": "python3"
  },
  "language_info": {
   "codemirror_mode": {
    "name": "ipython",
    "version": 3
   },
   "file_extension": ".py",
   "mimetype": "text/x-python",
   "name": "python",
   "nbconvert_exporter": "python",
   "pygments_lexer": "ipython3",
   "version": "3.11.7"
  }
 },
 "nbformat": 4,
 "nbformat_minor": 5
}
