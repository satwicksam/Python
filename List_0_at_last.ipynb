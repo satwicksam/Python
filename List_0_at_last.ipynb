{
 "cells": [
  {
   "cell_type": "markdown",
   "id": "11e434bc-c078-45b0-9b36-a2c9105791d9",
   "metadata": {},
   "source": [
    "# List (0 at last):"
   ]
  },
  {
   "cell_type": "raw",
   "id": "67e87742-7f69-43ee-b606-b3dbfef04bc6",
   "metadata": {},
   "source": [
    "Sample Input:\n",
    "n = 6\n",
    "l = [2,0,5,0,6,8]\n",
    "\n",
    "Sample Output:\n",
    "[2,5,6,8,0,0]"
   ]
  },
  {
   "cell_type": "code",
   "execution_count": 2,
   "id": "d7c01ed5-360b-4a15-90ca-1c82af448b36",
   "metadata": {
    "scrolled": true
   },
   "outputs": [
    {
     "name": "stdin",
     "output_type": "stream",
     "text": [
      "Enter a number: 6\n",
      " 2\n",
      " 0\n",
      " 5\n",
      " 0\n",
      " 6\n",
      " 8\n"
     ]
    },
    {
     "name": "stdout",
     "output_type": "stream",
     "text": [
      "[2, 5, 6, 8, 0, 0]\n"
     ]
    }
   ],
   "source": [
    "l = []\n",
    "n = int(input(\"Enter a number:\"))\n",
    "for i in range(n):\n",
    "    v = int(input())\n",
    "    if (v!=0):\n",
    "        l.append(v)\n",
    "\n",
    "for i in range(len(l), n):\n",
    "    l.append(0)\n",
    "print(l)"
   ]
  },
  {
   "cell_type": "code",
   "execution_count": null,
   "id": "ca958377-4238-482f-b7cc-b8ca6c38d474",
   "metadata": {},
   "outputs": [],
   "source": []
  }
 ],
 "metadata": {
  "kernelspec": {
   "display_name": "Python 3 (ipykernel)",
   "language": "python",
   "name": "python3"
  },
  "language_info": {
   "codemirror_mode": {
    "name": "ipython",
    "version": 3
   },
   "file_extension": ".py",
   "mimetype": "text/x-python",
   "name": "python",
   "nbconvert_exporter": "python",
   "pygments_lexer": "ipython3",
   "version": "3.11.7"
  }
 },
 "nbformat": 4,
 "nbformat_minor": 5
}
