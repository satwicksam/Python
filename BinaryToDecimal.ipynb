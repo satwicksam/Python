{
 "cells": [
  {
   "cell_type": "markdown",
   "id": "031981d9-d153-4a49-aa65-b426c6e2bac1",
   "metadata": {},
   "source": [
    "### Binary to Decimal Converter"
   ]
  },
  {
   "cell_type": "code",
   "execution_count": 4,
   "id": "d289c605-9a8c-4b51-9176-4dd317faae97",
   "metadata": {},
   "outputs": [
    {
     "name": "stdin",
     "output_type": "stream",
     "text": [
      "Enter a BINARY number:  10025\n"
     ]
    },
    {
     "name": "stdout",
     "output_type": "stream",
     "text": [
      "1\n",
      "0\n",
      "0\n",
      "2\n",
      "5\n",
      "10025 equivalent decimal is - 25\n"
     ]
    }
   ],
   "source": [
    "bn = input(\"Enter a BINARY number: \")\n",
    "dn = int(0)\n",
    "pow = len(bn)-1\n",
    "for i in bn:\n",
    "    print(i)\n",
    "    dn += int(i)*(2**pow)\n",
    "    pow = pow-1\n",
    "print(f\"{bn} equivalent decimal is - {dn}\")"
   ]
  },
  {
   "cell_type": "markdown",
   "id": "f63d2889-809d-4e9f-88fb-2a4c35a321b2",
   "metadata": {},
   "source": [
    "#### process 1"
   ]
  },
  {
   "cell_type": "code",
   "execution_count": 4,
   "id": "c016c618-4e93-42f2-b3e3-501536e2bc65",
   "metadata": {},
   "outputs": [
    {
     "name": "stdin",
     "output_type": "stream",
     "text": [
      " 1110\n"
     ]
    },
    {
     "name": "stdout",
     "output_type": "stream",
     "text": [
      "14\n"
     ]
    }
   ],
   "source": [
    "bn=input()\n",
    "dn=0\n",
    "pow=len(bn)-1\n",
    "for i in bn:\n",
    "    dn+=int(i)*(2**pow)\n",
    "    pow-=1\n",
    "print(dn)"
   ]
  },
  {
   "cell_type": "code",
   "execution_count": null,
   "id": "50beac92-8de2-442f-af4c-4e3608f28750",
   "metadata": {},
   "outputs": [],
   "source": []
  }
 ],
 "metadata": {
  "kernelspec": {
   "display_name": "Python 3 (ipykernel)",
   "language": "python",
   "name": "python3"
  },
  "language_info": {
   "codemirror_mode": {
    "name": "ipython",
    "version": 3
   },
   "file_extension": ".py",
   "mimetype": "text/x-python",
   "name": "python",
   "nbconvert_exporter": "python",
   "pygments_lexer": "ipython3",
   "version": "3.11.7"
  }
 },
 "nbformat": 4,
 "nbformat_minor": 5
}
